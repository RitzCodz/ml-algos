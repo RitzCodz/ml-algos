{
 "cells": [
  {
   "cell_type": "code",
   "execution_count": 3,
   "metadata": {},
   "outputs": [
    {
     "data": {
      "text/plain": [
       "RandomForestClassifier(bootstrap=True, class_weight=None, criterion='gini',\n",
       "                       max_depth=None, max_features='sqrt', max_leaf_nodes=None,\n",
       "                       min_impurity_decrease=0.0, min_impurity_split=None,\n",
       "                       min_samples_leaf=1, min_samples_split=2,\n",
       "                       min_weight_fraction_leaf=0.0, n_estimators=100,\n",
       "                       n_jobs=None, oob_score=False, random_state=None,\n",
       "                       verbose=0, warm_start=False)"
      ]
     },
     "execution_count": 3,
     "metadata": {},
     "output_type": "execute_result"
    }
   ],
   "source": [
    "import numpy as np\n",
    "import pandas as pd\n",
    "\n",
    "from sklearn.tree import DecisionTreeClassifier\n",
    "from sklearn.tree import export_graphviz\n",
    "from sklearn.ensemble import RandomForestClassifier\n",
    "\n",
    "#Decision Tree\n",
    "dfo = pd.read_csv(\"D:/S6/AI/AI2020/assignment-1/muhsin/games.csv\")\n",
    "df = dfo[:2000]\n",
    "\n",
    "test = dfo[2001:2500]\n",
    "testx = test[[ 'firstInhibitor', 'firstBlood', 'firstTower', 'firstDragon', 'firstRiftHerald', 'firstBaron']]\n",
    "testy = test['winner']\n",
    "\n",
    "datapd = df[['firstInhibitor','firstBlood','firstTower', 'firstDragon', 'firstRiftHerald', 'firstBaron']]\n",
    "label = df['winner']\n",
    "\n",
    "\n",
    "#Random Forest\n",
    "model = RandomForestClassifier(n_estimators = 100, max_features = 'sqrt')\n",
    "model.fit( datapd, label )"
   ]
  },
  {
   "cell_type": "code",
   "execution_count": 4,
   "metadata": {},
   "outputs": [
    {
     "data": {
      "text/plain": [
       "0.8897795591182365"
      ]
     },
     "execution_count": 4,
     "metadata": {},
     "output_type": "execute_result"
    }
   ],
   "source": [
    "model.score(testx,testy)"
   ]
  }
 ],
 "metadata": {
  "kernelspec": {
   "display_name": "Python 3",
   "language": "python",
   "name": "python3"
  },
  "language_info": {
   "codemirror_mode": {
    "name": "ipython",
    "version": 3
   },
   "file_extension": ".py",
   "mimetype": "text/x-python",
   "name": "python",
   "nbconvert_exporter": "python",
   "pygments_lexer": "ipython3",
   "version": "3.7.4"
  }
 },
 "nbformat": 4,
 "nbformat_minor": 2
}
